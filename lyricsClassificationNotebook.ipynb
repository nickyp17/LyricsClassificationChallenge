{
 "cells": [
  {
   "cell_type": "markdown",
   "metadata": {},
   "source": [
    "# Lyrics Classification Challenge"
   ]
  },
  {
   "cell_type": "code",
   "execution_count": 24,
   "metadata": {},
   "outputs": [],
   "source": [
    "import random\n",
    "\n",
    "class Genre:\n",
    "    HIPHOP = 'Hip Hop'\n",
    "    ROCK = 'Rock'\n",
    "    POP = 'Pop'\n",
    "    UNKOWN = 'unknown'\n",
    "\n",
    "class Lyric:\n",
    "    \n",
    "    def __init__(self, words:str, genre:str) -> None:\n",
    "        self.words = words\n",
    "        self.genre = genre\n",
    "\n",
    "    def __repr__(self) -> str:\n",
    "        return f'Lyric({self.words[0:5]}, {self.genre})'\n",
    "\n",
    "    def get_genre(self) -> Genre:\n",
    "        if self.genre == 'Hip Hop':\n",
    "            return Genre.HIPHOP\n",
    "        elif self.genre == 'Rock':\n",
    "            return Genre.ROCK\n",
    "        elif self.genre == 'Pop': \n",
    "            return Genre.POP\n",
    "        else: # genre is unkown\n",
    "            return Genre.UNKOWN \n",
    "\n",
    "# This lyric container was originally going to be used to give the model an even number of rock, pop, and hip hop songs\n",
    "# thats why the evenlyDistribute function is defined\n",
    "class LyricContainer:\n",
    "    \n",
    "    def __init__(self, lyrics) -> None:\n",
    "        self.lyrics = lyrics\n",
    "        random.shuffle(self.lyrics)\n",
    "\n",
    "    def get_words(self) -> list:\n",
    "        return [x.words for x in self.lyrics]\n",
    "\n",
    "    def get_genre(self) -> list:\n",
    "        return [x.get_genre() for x in self.lyrics]\n",
    "\n",
    "    def evenlyDistribute(self) -> None:\n",
    "        hiphop = list(filter(lambda x: x.get_genre() == Genre.HIPHOP, self.lyrics))\n",
    "        rock = list(filter(lambda x: x.get_genre() == Genre.ROCK, self.lyrics))\n",
    "        pop = list(filter(lambda x: x.get_genre() == Genre.POP, self.lyrics))\n",
    "\n",
    "        rock_shrunk = rock[:len(hiphop)]\n",
    "        pop_shrunk = pop[:len(hiphop)]\n",
    "\n",
    "        self.lyrics = hiphop + pop_shrunk + rock_shrunk\n",
    "        random.shuffle(self.lyrics)\n",
    "\n"
   ]
  },
  {
   "cell_type": "markdown",
   "metadata": {},
   "source": [
    "## Load data\n"
   ]
  },
  {
   "cell_type": "code",
   "execution_count": 25,
   "metadata": {},
   "outputs": [],
   "source": [
    "import pandas as pd\n",
    "\n",
    "df = pd.read_csv('data\\data.csv')\n",
    "\n",
    "unfiltered_lyrics = list(map(lambda x:Lyric(x[0], x[1]), df.values.tolist()))\n",
    "\n",
    "unk_lyrics = [l for l in unfiltered_lyrics if l.get_genre() == Genre.UNKOWN]\n",
    "\n",
    "lyrics = list(set(unfiltered_lyrics) - set(unk_lyrics))\n",
    "\n"
   ]
  },
  {
   "cell_type": "markdown",
   "metadata": {},
   "source": [
    "## Prep Data\n"
   ]
  },
  {
   "cell_type": "code",
   "execution_count": 26,
   "metadata": {},
   "outputs": [],
   "source": [
    "# of lyrics : 40000 -> train ; 10000 -> estimate/test ; 5000 in unk_lyrics -> is the unkown lyrics for acc test\n",
    "from sklearn.model_selection import train_test_split\n",
    "\n",
    "training, test = train_test_split(lyrics, test_size=0.2, random_state=42)\n",
    "\n",
    "train_cont = LyricContainer(training) \n",
    "test_cont = LyricContainer(test)"
   ]
  },
  {
   "cell_type": "code",
   "execution_count": 27,
   "metadata": {},
   "outputs": [],
   "source": [
    "train_x = train_cont.get_words()\n",
    "train_y = train_cont.get_genre()\n",
    "\n",
    "test_x = test_cont.get_words()\n",
    "test_y = test_cont.get_genre()\n"
   ]
  },
  {
   "cell_type": "code",
   "execution_count": 28,
   "metadata": {},
   "outputs": [],
   "source": [
    "# for unk lyrics\n",
    "unk_x = [x.words for x in unk_lyrics]\n",
    "unk_y = [x.genre for x in unk_lyrics]"
   ]
  },
  {
   "cell_type": "markdown",
   "metadata": {},
   "source": [
    "Bag of Words vectorization"
   ]
  },
  {
   "cell_type": "code",
   "execution_count": 29,
   "metadata": {},
   "outputs": [],
   "source": [
    "from sklearn.feature_extraction.text import CountVectorizer \n",
    "\n",
    "# turning lyrics into vectors for model\n",
    "\n",
    "vectorizer = CountVectorizer()\n",
    "train_x_vectors = vectorizer.fit_transform(train_x)\n",
    "\n",
    "test_x_vectors = vectorizer.transform(test_x)\n",
    "\n",
    "# train_x_vectors\n",
    "# train_y\n",
    "#* ^ this is the data that will fit a model around for machine learning algo"
   ]
  },
  {
   "cell_type": "code",
   "execution_count": 30,
   "metadata": {},
   "outputs": [],
   "source": [
    "# for unk lyrics\n",
    "unk_x_vectors = vectorizer.transform(unk_x)\n",
    "\n",
    "# unk_x_vectors\n",
    "#* ^ this is the data that we will predict using our model "
   ]
  },
  {
   "cell_type": "markdown",
   "metadata": {},
   "source": [
    "## Classification"
   ]
  },
  {
   "cell_type": "markdown",
   "metadata": {},
   "source": [
    "### Linear SVC\n"
   ]
  },
  {
   "cell_type": "code",
   "execution_count": 33,
   "metadata": {},
   "outputs": [
    {
     "data": {
      "text/plain": [
       "LinearSVC(C=0.1, dual=False, penalty='l1')"
      ]
     },
     "execution_count": 33,
     "metadata": {},
     "output_type": "execute_result"
    }
   ],
   "source": [
    "from sklearn.svm import LinearSVC\n",
    "\n",
    "clf_svc = LinearSVC(penalty='l1', dual=False, C=0.1)\n",
    "clf_svc.fit(train_x_vectors, train_y)"
   ]
  },
  {
   "cell_type": "markdown",
   "metadata": {},
   "source": [
    "## Evaluation"
   ]
  },
  {
   "cell_type": "code",
   "execution_count": 34,
   "metadata": {},
   "outputs": [],
   "source": [
    "from sklearn.metrics import accuracy_score\n",
    "\n",
    "pred = clf_svc.predict(test_x_vectors)\n",
    "estimated_accuracy = accuracy_score(test_y, pred)\n",
    "pd.Series(estimated_accuracy).to_csv('ea.csv', index=False, header=False)"
   ]
  },
  {
   "cell_type": "markdown",
   "metadata": {},
   "source": [
    "# Predicting Testing Set"
   ]
  },
  {
   "cell_type": "code",
   "execution_count": 35,
   "metadata": {},
   "outputs": [],
   "source": [
    "pred = clf_svc.predict(unk_x_vectors)\n",
    "pred = pd.Series(pred).to_csv('pred.csv', index=False, header=False)"
   ]
  }
 ],
 "metadata": {
  "interpreter": {
   "hash": "ed982b9b6081d1d9e59ed82f711d227adf8310dd235d41e3a5d30a82931f91e3"
  },
  "kernelspec": {
   "display_name": "Python 3 (ipykernel)",
   "language": "python",
   "name": "python3"
  },
  "language_info": {
   "codemirror_mode": {
    "name": "ipython",
    "version": 3
   },
   "file_extension": ".py",
   "mimetype": "text/x-python",
   "name": "python",
   "nbconvert_exporter": "python",
   "pygments_lexer": "ipython3",
   "version": "3.9.7"
  }
 },
 "nbformat": 4,
 "nbformat_minor": 2
}
